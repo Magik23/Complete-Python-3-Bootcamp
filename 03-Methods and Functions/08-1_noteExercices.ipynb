{
 "cells": [
  {
   "attachments": {},
   "cell_type": "markdown",
   "metadata": {},
   "source": [
    "# NotesExercices Serction 6 - Video\n",
    "\n",
    "Complete the following questions:"
   ]
  },
  {
   "attachments": {},
   "cell_type": "markdown",
   "metadata": {},
   "source": [
    "Functions #10: skyline\n",
    "Define a function called myfunc that takes in a string, and returns a matching string where every even letter is uppercase, and every odd letter is lowercase. Assume that the incoming string only contains letters, and don't worry about numbers, spaces or punctuation. The output string can start with either an uppercase or lowercase letter, so long as letters alternate throughout the string.\n",
    "\n",
    "Remember, don't run the function, simply provide the definition.\n",
    "\n",
    "To give an idea what the function would look like when tested:\n",
    "\n",
    "myfunc('Anthropomorphism')\n",
    "# Output: 'aNtHrOpOmOrPhIsM'\n",
    "Added note: this exercise requires that the function return a string. Print statements will not work here."
   ]
  },
  {
   "cell_type": "code",
   "execution_count": 18,
   "metadata": {
    "collapsed": true
   },
   "outputs": [],
   "source": [
    "def myfunc(inString):\n",
    "    outString = []\n",
    "    for i in range(len(inString)):\n",
    "        if i%2==0:\n",
    "            outString.append(inString[i].lower())\n",
    "        else:\n",
    "            outString.append(inString[i].upper())\n",
    "    return outString"
   ]
  },
  {
   "cell_type": "code",
   "execution_count": 19,
   "metadata": {},
   "outputs": [
    {
     "data": {
      "text/plain": [
       "['a',\n",
       " 'N',\n",
       " 't',\n",
       " 'H',\n",
       " 'r',\n",
       " 'O',\n",
       " 'p',\n",
       " 'O',\n",
       " 'm',\n",
       " 'O',\n",
       " 'r',\n",
       " 'P',\n",
       " 'h',\n",
       " 'I',\n",
       " 's',\n",
       " 'M']"
      ]
     },
     "execution_count": 19,
     "metadata": {},
     "output_type": "execute_result"
    }
   ],
   "source": [
    "myfunc('Anthropomorphism')"
   ]
  },
  {
   "cell_type": "code",
   "execution_count": 9,
   "metadata": {},
   "outputs": [],
   "source": [
    "def myfunc(inString):\n",
    "    outString = []\n",
    "    for i in range(len(inString)):\n",
    "        if i%2==0:\n",
    "            outString.append(inString[i].lower())\n",
    "        else:\n",
    "            outString.append(inString[i].upper())\n",
    "    return ''.join(outString)"
   ]
  },
  {
   "cell_type": "code",
   "execution_count": 10,
   "metadata": {},
   "outputs": [
    {
     "data": {
      "text/plain": [
       "'aNtHrOpOmOrPhIsM'"
      ]
     },
     "execution_count": 10,
     "metadata": {},
     "output_type": "execute_result"
    }
   ],
   "source": [
    "myfunc('Anthropomorphism')"
   ]
  }
 ],
 "metadata": {
  "kernelspec": {
   "display_name": "base",
   "language": "python",
   "name": "python3"
  },
  "language_info": {
   "codemirror_mode": {
    "name": "ipython",
    "version": 3
   },
   "file_extension": ".py",
   "mimetype": "text/x-python",
   "name": "python",
   "nbconvert_exporter": "python",
   "pygments_lexer": "ipython3",
   "version": "3.9.13"
  },
  "vscode": {
   "interpreter": {
    "hash": "5a77a3e9904303c9cd81d838c54a3ff313b14561c571b13c5b3242f9f1920593"
   }
  }
 },
 "nbformat": 4,
 "nbformat_minor": 1
}
